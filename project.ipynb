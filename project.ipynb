{
  "cells": [
    {
      "cell_type": "markdown",
      "metadata": {
        "id": "_avVIGTpvioI"
      },
      "source": [
        "# DX 704 Week 3 Project\n",
        "\n",
        "This week's project will give you practice with optimizing choices for bandit algorithms.\n",
        "You will be given access to the bandit problem via a blackbox object, and you will investigate the bandit rewards to pick a suitable algorithm."
      ]
    },
    {
      "cell_type": "markdown",
      "metadata": {
        "id": "ftRkegOQowWA"
      },
      "source": [
        "The full project description, a template notebook and supporting code are available on GitHub: [Project 3 Materials](https://github.com/bu-cds-dx704/dx704-project-03).\n"
      ]
    },
    {
      "cell_type": "markdown",
      "metadata": {
        "id": "-tPHvNSEdR6h"
      },
      "source": [
        "## Example Code\n",
        "\n",
        "You may find it helpful to refer to these GitHub repositories of Jupyter notebooks for example code.\n",
        "\n",
        "* https://github.com/bu-cds-omds/dx601-examples\n",
        "* https://github.com/bu-cds-omds/dx602-examples\n",
        "* https://github.com/bu-cds-omds/dx603-examples\n",
        "* https://github.com/bu-cds-omds/dx704-examples\n",
        "\n",
        "Any calculations demonstrated in code examples or videos may be found in these notebooks, and you are allowed to copy this example code in your homework answers."
      ]
    },
    {
      "cell_type": "markdown",
      "metadata": {
        "id": "b6VKDAEY8JMI"
      },
      "source": [
        "## Part 1: Pick a Bandit Algorithm\n",
        "\n",
        "Experiment with the multi-armed bandit interface using seed 0 to learn about the distribution of rewards and decide what kind of bandit algorithm will be appropriate.\n",
        "A histogram will likely be helpful."
      ]
    },
    {
      "cell_type": "code",
      "execution_count": 2,
      "metadata": {
        "id": "BCggNE7NpiQN"
      },
      "outputs": [],
      "source": [
        "# DO NOT CHANGE\n",
        "\n",
        "import numpy as np\n",
        "\n",
        "class BanditProblem(object):\n",
        "    def __init__(self, seed):\n",
        "        self.seed = seed\n",
        "        self.rng = np.random.default_rng(seed)\n",
        "\n",
        "        self.num_arms = 3\n",
        "        self.ns = self.rng.integers(low=1, high=10, size=self.num_arms)\n",
        "        self.ps = self.rng.uniform(low=0.2, high=0.4, size=self.num_arms)\n",
        "\n",
        "    def get_num_arms(self):\n",
        "        return self.num_arms\n",
        "\n",
        "    def get_reward(self, arm):\n",
        "        if arm < 0 or arm >= self.num_arms:\n",
        "            raise ValueError(\"Invalid arm\")\n",
        "\n",
        "        x = self.rng.uniform()\n",
        "        x *= self.rng.binomial(self.ns[arm], self.ps[arm])\n",
        "\n",
        "        return x\n"
      ]
    },
    {
      "cell_type": "code",
      "execution_count": 3,
      "metadata": {
        "id": "X99ZQUyhpgak"
      },
      "outputs": [],
      "source": [
        "bandit0 = BanditProblem(0)"
      ]
    },
    {
      "cell_type": "code",
      "execution_count": 4,
      "metadata": {
        "id": "frDtVjt4qATJ"
      },
      "outputs": [
        {
          "data": {
            "text/plain": [
              "3"
            ]
          },
          "execution_count": 4,
          "metadata": {},
          "output_type": "execute_result"
        }
      ],
      "source": [
        "bandit0.get_num_arms()"
      ]
    },
    {
      "cell_type": "code",
      "execution_count": 5,
      "metadata": {
        "id": "sdM9Ec3HqC6h"
      },
      "outputs": [
        {
          "data": {
            "text/plain": [
              "1.8255111545554434"
            ]
          },
          "execution_count": 5,
          "metadata": {},
          "output_type": "execute_result"
        }
      ],
      "source": [
        "bandit0.get_reward(arm=0)"
      ]
    },
    {
      "cell_type": "code",
      "execution_count": 6,
      "metadata": {
        "id": "iuQ0jCr_plcZ"
      },
      "outputs": [
        {
          "data": {
            "text/html": [
              "<div>\n",
              "<style scoped>\n",
              "    .dataframe tbody tr th:only-of-type {\n",
              "        vertical-align: middle;\n",
              "    }\n",
              "\n",
              "    .dataframe tbody tr th {\n",
              "        vertical-align: top;\n",
              "    }\n",
              "\n",
              "    .dataframe thead th {\n",
              "        text-align: right;\n",
              "    }\n",
              "</style>\n",
              "<table border=\"1\" class=\"dataframe\">\n",
              "  <thead>\n",
              "    <tr style=\"text-align: right;\">\n",
              "      <th></th>\n",
              "      <th>n</th>\n",
              "      <th>mean</th>\n",
              "      <th>std</th>\n",
              "      <th>min</th>\n",
              "      <th>max</th>\n",
              "      <th>95% CI low</th>\n",
              "      <th>95% CI high</th>\n",
              "    </tr>\n",
              "    <tr>\n",
              "      <th>arm</th>\n",
              "      <th></th>\n",
              "      <th></th>\n",
              "      <th></th>\n",
              "      <th></th>\n",
              "      <th></th>\n",
              "      <th></th>\n",
              "      <th></th>\n",
              "    </tr>\n",
              "  </thead>\n",
              "  <tbody>\n",
              "    <tr>\n",
              "      <th>0</th>\n",
              "      <td>2000</td>\n",
              "      <td>0.7968</td>\n",
              "      <td>0.7775</td>\n",
              "      <td>0.0</td>\n",
              "      <td>5.2892</td>\n",
              "      <td>0.7627</td>\n",
              "      <td>0.8308</td>\n",
              "    </tr>\n",
              "    <tr>\n",
              "      <th>1</th>\n",
              "      <td>2000</td>\n",
              "      <td>0.6197</td>\n",
              "      <td>0.7064</td>\n",
              "      <td>0.0</td>\n",
              "      <td>4.8446</td>\n",
              "      <td>0.5887</td>\n",
              "      <td>0.6506</td>\n",
              "    </tr>\n",
              "    <tr>\n",
              "      <th>2</th>\n",
              "      <td>2000</td>\n",
              "      <td>0.9185</td>\n",
              "      <td>0.8040</td>\n",
              "      <td>0.0</td>\n",
              "      <td>4.0961</td>\n",
              "      <td>0.8832</td>\n",
              "      <td>0.9537</td>\n",
              "    </tr>\n",
              "  </tbody>\n",
              "</table>\n",
              "</div>"
            ],
            "text/plain": [
              "        n    mean     std  min     max  95% CI low  95% CI high\n",
              "arm                                                            \n",
              "0    2000  0.7968  0.7775  0.0  5.2892      0.7627       0.8308\n",
              "1    2000  0.6197  0.7064  0.0  4.8446      0.5887       0.6506\n",
              "2    2000  0.9185  0.8040  0.0  4.0961      0.8832       0.9537"
            ]
          },
          "metadata": {},
          "output_type": "display_data"
        },
        {
          "data": {
            "image/png": "[encoded data removed]",
            "text/plain": [
              "<Figure size 1000x350 with 1 Axes>"
            ]
          },
          "metadata": {},
          "output_type": "display_data"
        },
        {
          "name": "stderr",
          "output_type": "stream",
          "text": [
            "/tmp/ipykernel_5618/1819853390.py:51: MatplotlibDeprecationWarning: The 'labels' parameter of boxplot() has been renamed 'tick_labels' since Matplotlib 3.9; support for the old name will be dropped in 3.11.\n",
            "  plt.boxplot([samples[a] for a in arms], labels=[f\"arm {a}\" for a in arms], showfliers=False)\n"
          ]
        },
        {
          "data": {
            "image/png": "[encoded data removed]",
            "text/plain": [
              "<Figure size 600x350 with 1 Axes>"
            ]
          },
          "metadata": {},
          "output_type": "display_data"
        }
      ],
      "source": [
        "# YOUR CHANGES HERE\n",
        "\n",
        "import numpy as np\n",
        "import pandas as pd\n",
        "import matplotlib.pyplot as plt\n",
        "\n",
        "n_pulls = 2000\n",
        "arms = [0, 1, 2]\n",
        "\n",
        "samples = {}\n",
        "for a in arms:\n",
        "    rewards = [bandit0.get_reward(a) for _ in range(n_pulls)]\n",
        "    samples[a] = np.asarray(rewards)\n",
        "\n",
        "rows = []\n",
        "for a in arms:\n",
        "    x = samples[a]\n",
        "    mean = x.mean()\n",
        "    std = x.std(ddof=1)\n",
        "    se = std / np.sqrt(len(x))\n",
        "    ci_lo = mean - 1.96 * se\n",
        "    ci_hi = mean + 1.96 * se\n",
        "    rows.append({\n",
        "        \"arm\": a,\n",
        "        \"n\": len(x),\n",
        "        \"mean\": mean,\n",
        "        \"std\": std,\n",
        "        \"min\": x.min(),\n",
        "        \"max\": x.max(),\n",
        "        \"95% CI low\": ci_lo,\n",
        "        \"95% CI high\": ci_hi\n",
        "    })\n",
        "\n",
        "summary = pd.DataFrame(rows).set_index(\"arm\").round(4)\n",
        "display(summary)\n",
        "\n",
        "all_vals = np.concatenate([samples[a] for a in arms])\n",
        "max_val = float(all_vals.max())\n",
        "bins = np.linspace(0, max_val, 40)\n",
        "\n",
        "plt.figure(figsize=(10, 3.5))\n",
        "for a in arms:\n",
        "    plt.hist(samples[a], bins=bins, alpha=0.5, label=f\"arm {a}\", density=True)\n",
        "plt.xlabel(\"reward\")\n",
        "plt.ylabel(\"density\")\n",
        "plt.title(\"Reward distributions by arm (seed=0)\")\n",
        "plt.legend()\n",
        "plt.show()\n",
        "\n",
        "plt.figure(figsize=(6, 3.5))\n",
        "plt.boxplot([samples[a] for a in arms], labels=[f\"arm {a}\" for a in arms], showfliers=False)\n",
        "plt.ylabel(\"reward\")\n",
        "plt.title(\"Boxplot of rewards by arm\")\n",
        "plt.show()"
      ]
    },
    {
      "cell_type": "markdown",
      "metadata": {
        "id": "s4-3KtNXtzlY"
      },
      "source": [
        "Based on your investigation, pick an appropriate bandit algorithm to implement from the algorithms covered this week.\n",
        "Write a file \"algorithm-choice.txt\" that states your choice and gives a few sentences justifying your choice and rejecting the alternatives.\n",
        "Keep your explanation concise; overly verbose responses will be penalized."
      ]
    },
    {
      "cell_type": "code",
      "execution_count": 7,
      "metadata": {},
      "outputs": [],
      "source": [
        "with open(\"algorithm-choice.txt\", \"w\") as f:\n",
        "    f.write(\n",
        "        \"UCB-V (variance-aware UCB). Rewards are stationary, bounded, and heteroscedastic \"\n",
        "        \"(Uniform×Binomial × Uniform), so accounting for per-arm variance improves confidence \"\n",
        "        \"bounds and sample efficiency. In seed-0 probing, arms differ in both mean and spread; \"\n",
        "        \"UCB-V explicitly adjusts for this.\\n\"\n",
        "        \"Rejected: ε-greedy (simple but wastes pulls with fixed/slowly decaying exploration), \"\n",
        "        \"UCB1 (good baseline but assumes common variance and can be too optimistic under \"\n",
        "        \"heteroscedastic rewards), Thompson Sampling with Gaussian/Beta models (strong in practice \"\n",
        "        \"but introduces model-mismatch and tuning overhead not needed here).\"\n",
        "    )"
      ]
    },
    {
      "cell_type": "markdown",
      "metadata": {
        "id": "lY_xvfK4rN0C"
      },
      "source": [
        "## Part 2: Implement Bandit\n",
        "\n",
        "Based on your decision, implement an appropriate bandit algorithm and pick 1000 actions using seed 2025002."
      ]
    },
    {
      "cell_type": "code",
      "execution_count": 8,
      "metadata": {
        "id": "kufc5pAPrWTT"
      },
      "outputs": [
        {
          "name": "stdout",
          "output_type": "stream",
          "text": [
            "Completed 1000 actions.\n",
            "Final action counts: {0: np.int64(398), 1: np.int64(390), 2: np.int64(212)}\n"
          ]
        }
      ],
      "source": [
        "# YOUR CHANGES HERE\n",
        "\n",
        "import numpy as np\n",
        "\n",
        "T = 1000\n",
        "rng = np.random.default_rng(2025002)\n",
        "bandit = BanditProblem(2025002)\n",
        "K = bandit.get_num_arms()\n",
        "\n",
        "B_BOUND = 9.0\n",
        "\n",
        "counts = np.zeros(K, dtype=int)\n",
        "sums = np.zeros(K, dtype=float)\n",
        "sq_sums = np.zeros(K, dtype=float)\n",
        "\n",
        "actions = []\n",
        "rewards = []\n",
        "\n",
        "for a in range(K):\n",
        "    r = bandit.get_reward(a)\n",
        "    counts[a] += 1\n",
        "    sums[a] += r\n",
        "    sq_sums[a] += r * r\n",
        "    actions.append(a)\n",
        "    rewards.append(r)\n",
        "\n",
        "for t in range(K, T):\n",
        "    logt = np.log(t + 1.0)\n",
        "    ucb_vals = []\n",
        "    for a in range(K):\n",
        "        n = counts[a]\n",
        "        mean = sums[a] / n\n",
        "        var = max(sq_sums[a] / n - mean**2, 1e-12)\n",
        "        bonus = np.sqrt((2 * var * logt) / n) + (3 * B_BOUND * logt) / n\n",
        "        ucb_vals.append(mean + bonus)\n",
        "    best = np.flatnonzero(ucb_vals == np.max(ucb_vals))\n",
        "    a_sel = int(rng.choice(best)) if len(best) > 1 else int(best[0])\n",
        "    r = bandit.get_reward(a_sel)\n",
        "\n",
        "    counts[a_sel] += 1\n",
        "    sums[a_sel] += r\n",
        "    sq_sums[a_sel] += r * r\n",
        "\n",
        "    actions.append(a_sel)\n",
        "    rewards.append(r)\n",
        "\n",
        "print(\"Completed 1000 actions.\")\n",
        "print(\"Final action counts:\", dict(zip(range(K), counts)))"
      ]
    },
    {
      "cell_type": "markdown",
      "metadata": {
        "id": "Ho9QihatrZqy"
      },
      "source": [
        "Write a file \"history.tsv\" with columns action and reward in the order that the actions were taken."
      ]
    },
    {
      "cell_type": "code",
      "execution_count": 9,
      "metadata": {
        "id": "OsiU7S1XrX0q"
      },
      "outputs": [
        {
          "name": "stdout",
          "output_type": "stream",
          "text": [
            "Wrote history.tsv with 1000 rows.\n",
            "Header: action\treward\n",
            "First 3: ['0\\t1.5752073596631015', '1\\t0.0', '2\\t0.0']\n",
            "Last 2: ['2\\t0.0', '0\\t0.37939546288517667']\n"
          ]
        }
      ],
      "source": [
        "# YOUR CHANGES HERE\n",
        "\n",
        "assert len(actions) == len(rewards) == 1000, \"Expected 1000 actions/rewards before writing history.tsv\"\n",
        "\n",
        "with open(\"history.tsv\", \"w\", encoding=\"utf-8\") as f:\n",
        "    f.write(\"action\\treward\\n\")\n",
        "    for a, r in zip(actions, rewards):\n",
        "        f.write(f\"{int(a)}\\t{float(r)}\\n\")\n",
        "\n",
        "print(\"Wrote history.tsv with 1000 rows.\")\n",
        "\n",
        "with open(\"history.tsv\", \"r\", encoding=\"utf-8\") as f:\n",
        "    lines = f.readlines()\n",
        "print(\"Header:\", lines[0].strip())\n",
        "print(\"First 3:\", [ln.strip() for ln in lines[1:4]])\n",
        "print(\"Last 2:\", [ln.strip() for ln in lines[-2:]])"
      ]
    },
    {
      "cell_type": "markdown",
      "metadata": {
        "id": "fwm-1x3mrfXu"
      },
      "source": [
        "Submit \"history.tsv\" in Gradescope."
      ]
    },
    {
      "cell_type": "markdown",
      "metadata": {
        "id": "xc0xYgCzrmGj"
      },
      "source": [
        "## Part 3: Action Statistics\n",
        "\n",
        "Based on the data from part 2, estimate the expected reward for each arm and write a file \"actions.tsv\" with the columns action, min_reward, mean_reward, max_reward."
      ]
    },
    {
      "cell_type": "code",
      "execution_count": 10,
      "metadata": {
        "id": "a-uAbY03sFna"
      },
      "outputs": [
        {
          "name": "stdout",
          "output_type": "stream",
          "text": [
            "Wrote actions.tsv with per-arm min/mean/max.\n",
            "action\tmin_reward\tmean_reward\tmax_reward\n",
            "0\t0.0\t0.5638810131286192\t2.9191483629132895\n",
            "1\t0.0\t0.5521887673869104\t3.7614611916597194\n",
            "2\t0.0\t0.18631706400626832\t0.9773587756897689\n"
          ]
        }
      ],
      "source": [
        "# YOUR CHANGES HERE\n",
        "\n",
        "assert len(actions) == len(rewards) == 1000, \"Expected the Part 2 history to be in memory.\"\n",
        "\n",
        "K = bandit.get_num_arms()\n",
        "actions_arr = np.asarray(actions, dtype=int)\n",
        "rewards_arr = np.asarray(rewards, dtype=float)\n",
        "\n",
        "rows = []\n",
        "for a in range(K):\n",
        "    r = rewards_arr[actions_arr == a]\n",
        "    assert r.size > 0, f\"No pulls recorded for arm {a}.\"\n",
        "    rows.append((a, float(r.min()), float(r.mean()), float(r.max())))\n",
        "\n",
        "rows.sort(key=lambda x: x[0])\n",
        "\n",
        "with open(\"actions.tsv\", \"w\", encoding=\"utf-8\") as f:\n",
        "    f.write(\"action\\tmin_reward\\tmean_reward\\tmax_reward\\n\")\n",
        "    for a, rmin, rmean, rmax in rows:\n",
        "        f.write(f\"{a}\\t{rmin}\\t{rmean}\\t{rmax}\\n\")\n",
        "\n",
        "print(\"Wrote actions.tsv with per-arm min/mean/max.\")\n",
        "with open(\"actions.tsv\", \"r\", encoding=\"utf-8\") as f:\n",
        "    for _ in range(4):\n",
        "        print(f.readline().strip())"
      ]
    },
    {
      "cell_type": "markdown",
      "metadata": {
        "id": "kk8s1hpEsHWX"
      },
      "source": [
        "Submit \"actions.tsv\" in Gradescope."
      ]
    },
    {
      "cell_type": "markdown",
      "metadata": {
        "id": "asaIrLTtsKEv"
      },
      "source": [
        "## Part 4: Regret Estimates\n",
        "\n",
        "Calculate the expected regret taking 1000 actions with the following strategies.\n",
        "\n",
        "* uniform: Pick an arm uniformly at random.\n",
        "* just-i: Always pick arm $i$. Do this for $i=0$ to $K-1$ where $K$ is the number of arms.\n",
        "* actual: This should match your output in part 2."
      ]
    },
    {
      "cell_type": "code",
      "execution_count": 11,
      "metadata": {
        "id": "LgCSJKDmso5a"
      },
      "outputs": [
        {
          "data": {
            "text/html": [
              "<div>\n",
              "<style scoped>\n",
              "    .dataframe tbody tr th:only-of-type {\n",
              "        vertical-align: middle;\n",
              "    }\n",
              "\n",
              "    .dataframe tbody tr th {\n",
              "        vertical-align: top;\n",
              "    }\n",
              "\n",
              "    .dataframe thead th {\n",
              "        text-align: right;\n",
              "    }\n",
              "</style>\n",
              "<table border=\"1\" class=\"dataframe\">\n",
              "  <thead>\n",
              "    <tr style=\"text-align: right;\">\n",
              "      <th></th>\n",
              "      <th>strategy</th>\n",
              "      <th>expected_reward</th>\n",
              "      <th>expected_regret</th>\n",
              "    </tr>\n",
              "  </thead>\n",
              "  <tbody>\n",
              "    <tr>\n",
              "      <th>0</th>\n",
              "      <td>uniform</td>\n",
              "      <td>434.1289</td>\n",
              "      <td>129.7521</td>\n",
              "    </tr>\n",
              "    <tr>\n",
              "      <th>1</th>\n",
              "      <td>just-0</td>\n",
              "      <td>563.8810</td>\n",
              "      <td>0.0000</td>\n",
              "    </tr>\n",
              "    <tr>\n",
              "      <th>2</th>\n",
              "      <td>just-1</td>\n",
              "      <td>552.1888</td>\n",
              "      <td>11.6922</td>\n",
              "    </tr>\n",
              "    <tr>\n",
              "      <th>3</th>\n",
              "      <td>just-2</td>\n",
              "      <td>186.3171</td>\n",
              "      <td>377.5639</td>\n",
              "    </tr>\n",
              "    <tr>\n",
              "      <th>4</th>\n",
              "      <td>actual</td>\n",
              "      <td>479.2775</td>\n",
              "      <td>84.6035</td>\n",
              "    </tr>\n",
              "  </tbody>\n",
              "</table>\n",
              "</div>"
            ],
            "text/plain": [
              "  strategy  expected_reward  expected_regret\n",
              "0  uniform         434.1289         129.7521\n",
              "1   just-0         563.8810           0.0000\n",
              "2   just-1         552.1888          11.6922\n",
              "3   just-2         186.3171         377.5639\n",
              "4   actual         479.2775          84.6035"
            ]
          },
          "metadata": {},
          "output_type": "display_data"
        },
        {
          "name": "stdout",
          "output_type": "stream",
          "text": [
            "\n",
            "Per-arm mean estimates (mu_hat): {0: 0.5639, 1: 0.5522, 2: 0.1863}\n",
            "Best estimated mean (mu*): 0.5639\n"
          ]
        }
      ],
      "source": [
        "# YOUR CHANGES HERE\n",
        "\n",
        "K = bandit.get_num_arms()\n",
        "T = 1000\n",
        "\n",
        "actions_arr = np.asarray(actions, dtype=int)\n",
        "rewards_arr = np.asarray(rewards, dtype=float)\n",
        "\n",
        "mu_hat = np.zeros(K, dtype=float)\n",
        "for a in range(K):\n",
        "    ra = rewards_arr[actions_arr == a]\n",
        "    assert ra.size > 0, f\"No data for arm {a}.\"\n",
        "    mu_hat[a] = ra.mean()\n",
        "\n",
        "mu_star = mu_hat.max()\n",
        "sum_mu = mu_hat.sum()\n",
        "\n",
        "rows = []\n",
        "\n",
        "R_uniform = T * (sum_mu / K)\n",
        "reg_uniform = T * mu_star - R_uniform\n",
        "rows.append({\"strategy\": \"uniform\", \"expected_reward\": R_uniform, \"expected_regret\": reg_uniform})\n",
        "\n",
        "for i in range(K):\n",
        "    R_just = T * mu_hat[i]\n",
        "    reg_just = T * mu_star - R_just\n",
        "    rows.append({\"strategy\": f\"just-{i}\", \"expected_reward\": R_just, \"expected_regret\": reg_just})\n",
        "\n",
        "R_actual = rewards_arr.sum()\n",
        "reg_actual = T * mu_star - R_actual\n",
        "rows.append({\"strategy\": \"actual\", \"expected_reward\": R_actual, \"expected_regret\": reg_actual})\n",
        "\n",
        "strategies_df = pd.DataFrame(rows)\n",
        "display(strategies_df.round(4))\n",
        "\n",
        "print(\"\\nPer-arm mean estimates (mu_hat):\", {i: round(float(m), 4) for i, m in enumerate(mu_hat)})\n",
        "print(\"Best estimated mean (mu*):\", round(float(mu_star), 4))"
      ]
    },
    {
      "cell_type": "markdown",
      "metadata": {
        "id": "ncXs2IqPsqQO"
      },
      "source": [
        "Write your results to a file \"strategies.tsv\" with the columns strategy and regret."
      ]
    },
    {
      "cell_type": "code",
      "execution_count": 12,
      "metadata": {
        "id": "GlYK-oCUtyFm"
      },
      "outputs": [
        {
          "name": "stdout",
          "output_type": "stream",
          "text": [
            "Wrote strategies.tsv\n",
            "strategy\tregret\n",
            "uniform\t129.7520649546866\n",
            "just-0\t0.0\n",
            "just-1\t11.692245741708803\n",
            "just-2\t377.5639491223509\n"
          ]
        }
      ],
      "source": [
        "# YOUR CHANGES HERE\n",
        "\n",
        "out = strategies_df.loc[:, [\"strategy\", \"expected_regret\"]].rename(columns={\"expected_regret\": \"regret\"})\n",
        "\n",
        "out.to_csv(\"strategies.tsv\", sep=\"\\t\", index=False)\n",
        "\n",
        "print(\"Wrote strategies.tsv\")\n",
        "\n",
        "with open(\"strategies.tsv\", \"r\", encoding=\"utf-8\") as f:\n",
        "    for _ in range(5):\n",
        "        line = f.readline()\n",
        "        if not line:\n",
        "            break\n",
        "        print(line.strip())"
      ]
    },
    {
      "cell_type": "markdown",
      "metadata": {
        "id": "bNs9BJCvtz2N"
      },
      "source": [
        "Submit \"strategies.tsv\" in Gradescope."
      ]
    },
    {
      "cell_type": "markdown",
      "metadata": {
        "id": "lopxdy3lsysb"
      },
      "source": [
        "## Part 5: Acknowledgments\n",
        "\n",
        "Make a file \"acknowledgments.txt\" documenting any outside sources or help on this project.\n",
        "If you discussed this assignment with anyone, please acknowledge them here.\n",
        "If you used any libraries not mentioned in this module's content, please list them with a brief explanation what you used them for.\n",
        "If you used any generative AI tools, please add links to your transcripts below, and any other information that you feel is necessary to comply with the generative AI policy.\n",
        "If no acknowledgements are appropriate, just write none in the file.\n"
      ]
    },
    {
      "cell_type": "code",
      "execution_count": 14,
      "metadata": {},
      "outputs": [
        {
          "name": "stdout",
          "output_type": "stream",
          "text": [
            "Exists? True Size: 402 bytes\n"
          ]
        }
      ],
      "source": [
        "from datetime import date\n",
        "import os\n",
        "\n",
        "ack_text = f\"\"\"DX704 Week 3 — Acknowledgments\n",
        "Date: {date.today().isoformat()}\n",
        "\n",
        "People / Discussions\n",
        "- None.\n",
        "\n",
        "External Libraries (beyond standard course stack)\n",
        "- None. (Only numpy, pandas, matplotlib were used, which are part of the standard stack.)\n",
        "\n",
        "Data Sources\n",
        "- None. (All data generated via the provided BanditProblem class.)\n",
        "\n",
        "Generative AI Usage\n",
        "- None\n",
        "\n",
        "Other Sources\n",
        "- DX601–DX704 example notebooks referenced as allowed.\n",
        "\"\"\"\n",
        "\n",
        "with open(\"acknowledgements.txt\", \"w\", encoding=\"utf-8\") as f:\n",
        "    f.write(ack_text)\n",
        "\n",
        "print(\"Exists?\", os.path.exists(\"acknowledgements.txt\"),\n",
        "      \"Size:\", os.path.getsize(\"acknowledgements.txt\"), \"bytes\")"
      ]
    },
    {
      "cell_type": "markdown",
      "metadata": {
        "id": "H8-GaDpOw06W"
      },
      "source": [
        "Submit \"acknowledgments.txt\" in Gradescope."
      ]
    },
    {
      "cell_type": "markdown",
      "metadata": {
        "id": "_AR_XyZi8N_Q"
      },
      "source": [
        "## Part 6: Code\n",
        "\n",
        "Please submit a Jupyter notebook that can reproduce all your calculations and recreate the previously submitted files."
      ]
    },
    {
      "cell_type": "markdown",
      "metadata": {
        "id": "oXhGo_008M-b"
      },
      "source": [
        "Submit \"project.ipynb\" in Gradescope."
      ]
    }
  ],
  "metadata": {
    "colab": {
      "toc_visible": false
    },
    "kernelspec": {
      "display_name": "Python 3",
      "name": "python3"
    },
    "language_info": {
      "codemirror_mode": {
        "name": "ipython",
        "version": 3
      },
      "file_extension": ".py",
      "mimetype": "text/x-python",
      "name": "python",
      "nbconvert_exporter": "python",
      "pygments_lexer": "ipython3",
      "version": "3.12.1"
    }
  },
  "nbformat": 4,
  "nbformat_minor": 0
}
